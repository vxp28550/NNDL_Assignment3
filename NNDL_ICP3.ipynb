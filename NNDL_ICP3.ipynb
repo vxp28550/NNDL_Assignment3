{
  "nbformat": 4,
  "nbformat_minor": 0,
  "metadata": {
    "colab": {
      "provenance": []
    },
    "kernelspec": {
      "name": "python3",
      "display_name": "Python 3"
    },
    "language_info": {
      "name": "python"
    }
  },
  "cells": [
    {
      "cell_type": "code",
      "execution_count": 1,
      "metadata": {
        "colab": {
          "base_uri": "https://localhost:8080/"
        },
        "id": "0LQ9K8Ta_EZp",
        "outputId": "5eaba61b-7e4e-442a-c4a7-8de9f20f49cd"
      },
      "outputs": [
        {
          "output_type": "stream",
          "name": "stdout",
          "text": [
            "Average salary: 1183750.0\n"
          ]
        }
      ],
      "source": [
        "class Employee:\n",
        "    count = 0\n",
        "\n",
        "    def __init__(self, name, family_name, salary, dpt):\n",
        "        self.__name = name\n",
        "        self.__family_name = family_name\n",
        "        self.salary = salary\n",
        "        self.__dpt = dpt\n",
        "        Employee.count += 1\n",
        "\n",
        "    def average_salary(employees):\n",
        "        sum = 0\n",
        "        for employee in employees:\n",
        "            sum += employee.salary\n",
        "        return sum / Employee.count\n",
        "class FulltimeEmployee(Employee):\n",
        "    def __init__(self, name, family_name, salary, dpt):\n",
        "        super().__init__(name, family_name, salary, dpt)\n",
        "\n",
        "def main():\n",
        "    employees = []\n",
        "    fte1 = FulltimeEmployee(\"vamshi\", \"ponugoti\", 1200000, \"Unknown\")\n",
        "    employees.append(fte1)\n",
        "    fte2 = FulltimeEmployee(\"nikhil\", \"vatti\", 1800000, \"US\")\n",
        "    employees.append(fte2)\n",
        "    emp1 = Employee(\"din\", \"gum\", 1600000, \"Sales\")\n",
        "    employees.append(emp1)\n",
        "    emp2 = Employee(\"prani\", \"bs\", 135000, \"UK\")\n",
        "    employees.append(emp2)\n",
        "    print(\"Average salary:\", FulltimeEmployee.average_salary(employees))\n",
        "\n",
        "\n",
        "if __name__ == \"__main__\":\n",
        "    main()"
      ]
    },
    {
      "cell_type": "code",
      "source": [
        "import numpy as np\n",
        "v = np.random.uniform(1,20, 20)\n",
        "print(v)\n",
        "\n",
        "v = v.reshape(4, 5)\n",
        "print(v)\n",
        "\n",
        "vec = np.where(v == np.max(v, axis=1,keepdims=True), 0, v)\n",
        "print(v)"
      ],
      "metadata": {
        "colab": {
          "base_uri": "https://localhost:8080/"
        },
        "id": "UXwP8g8P_2rY",
        "outputId": "5cbe3baa-84a7-4f61-f884-ba2ec904e156"
      },
      "execution_count": 6,
      "outputs": [
        {
          "output_type": "stream",
          "name": "stdout",
          "text": [
            "[13.95178592  8.59817807 11.47772581 13.06689338  1.28648661 14.79284822\n",
            "  8.99250196  4.58801208 13.16855048  1.51636295 19.58138632 11.12413205\n",
            "  4.29630152  9.42867515 13.08755147 18.12431204  8.14255152 13.34386221\n",
            "  8.91406769 10.22028981]\n",
            "[[13.95178592  8.59817807 11.47772581 13.06689338  1.28648661]\n",
            " [14.79284822  8.99250196  4.58801208 13.16855048  1.51636295]\n",
            " [19.58138632 11.12413205  4.29630152  9.42867515 13.08755147]\n",
            " [18.12431204  8.14255152 13.34386221  8.91406769 10.22028981]]\n",
            "[[13.95178592  8.59817807 11.47772581 13.06689338  1.28648661]\n",
            " [14.79284822  8.99250196  4.58801208 13.16855048  1.51636295]\n",
            " [19.58138632 11.12413205  4.29630152  9.42867515 13.08755147]\n",
            " [18.12431204  8.14255152 13.34386221  8.91406769 10.22028981]]\n"
          ]
        }
      ]
    }
  ]
}